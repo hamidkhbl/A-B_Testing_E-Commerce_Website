{
 "cells": [
  {
   "cell_type": "markdown",
   "metadata": {},
   "source": [
    "## Analyze A/B Test Results\n",
    "\n",
    "This project will assure you have mastered the subjects covered in the statistics lessons.  The hope is to have this project be as comprehensive of these topics as possible.  Good luck!\n",
    "\n",
    "## Table of Contents\n",
    "- [Introduction](#intro)\n",
    "- [Part I - Probability](#probability)\n",
    "- [Part II - A/B Test](#ab_test)\n",
    "- [Part III - Regression](#regression)\n",
    "\n",
    "\n",
    "<a id='intro'></a>\n",
    "### Introduction\n",
    "\n",
    "A/B tests are very commonly performed by data analysts and data scientists.  It is important that you get some practice working with the difficulties of these \n",
    "\n",
    "For this project, you will be working to understand the results of an A/B test run by an e-commerce website.  Your goal is to work through this notebook to help the company understand if they should implement the new page, keep the old page, or perhaps run the experiment longer to make their decision.\n",
    "\n",
    "**As you work through this notebook, follow along in the classroom and answer the corresponding quiz questions associated with each question.** The labels for each classroom concept are provided for each question.  This will assure you are on the right track as you work through the project, and you can feel more confident in your final submission meeting the criteria.  As a final check, assure you meet all the criteria on the [RUBRIC](https://review.udacity.com/#!/projects/37e27304-ad47-4eb0-a1ab-8c12f60e43d0/rubric).\n",
    "\n",
    "<a id='probability'></a>\n",
    "#### Part I - Probability\n",
    "\n",
    "To get started, let's import our libraries."
   ]
  },
  {
   "cell_type": "code",
   "execution_count": 2,
   "metadata": {},
   "outputs": [],
   "source": [
    "import pandas as pd\n",
    "import numpy as np\n",
    "import random\n",
    "import matplotlib.pyplot as plt\n",
    "%matplotlib inline\n",
    "#We are setting the seed to assure you get the same answers on quizzes as we set up\n",
    "random.seed(42)"
   ]
  },
  {
   "cell_type": "markdown",
   "metadata": {},
   "source": [
    "`1.` Now, read in the `ab_data.csv` data. Store it in `df`.  **Use your dataframe to answer the questions in Quiz 1 of the classroom.**\n",
    "\n",
    "a. Read in the dataset and take a look at the top few rows here:"
   ]
  },
  {
   "cell_type": "code",
   "execution_count": 3,
   "metadata": {},
   "outputs": [
    {
     "data": {
      "text/html": [
       "<div>\n",
       "<style scoped>\n",
       "    .dataframe tbody tr th:only-of-type {\n",
       "        vertical-align: middle;\n",
       "    }\n",
       "\n",
       "    .dataframe tbody tr th {\n",
       "        vertical-align: top;\n",
       "    }\n",
       "\n",
       "    .dataframe thead th {\n",
       "        text-align: right;\n",
       "    }\n",
       "</style>\n",
       "<table border=\"1\" class=\"dataframe\">\n",
       "  <thead>\n",
       "    <tr style=\"text-align: right;\">\n",
       "      <th></th>\n",
       "      <th>user_id</th>\n",
       "      <th>timestamp</th>\n",
       "      <th>group</th>\n",
       "      <th>landing_page</th>\n",
       "      <th>converted</th>\n",
       "    </tr>\n",
       "  </thead>\n",
       "  <tbody>\n",
       "    <tr>\n",
       "      <td>0</td>\n",
       "      <td>851104</td>\n",
       "      <td>2017-01-21 22:11:48.556739</td>\n",
       "      <td>control</td>\n",
       "      <td>old_page</td>\n",
       "      <td>0</td>\n",
       "    </tr>\n",
       "    <tr>\n",
       "      <td>1</td>\n",
       "      <td>804228</td>\n",
       "      <td>2017-01-12 08:01:45.159739</td>\n",
       "      <td>control</td>\n",
       "      <td>old_page</td>\n",
       "      <td>0</td>\n",
       "    </tr>\n",
       "    <tr>\n",
       "      <td>2</td>\n",
       "      <td>661590</td>\n",
       "      <td>2017-01-11 16:55:06.154213</td>\n",
       "      <td>treatment</td>\n",
       "      <td>new_page</td>\n",
       "      <td>0</td>\n",
       "    </tr>\n",
       "    <tr>\n",
       "      <td>3</td>\n",
       "      <td>853541</td>\n",
       "      <td>2017-01-08 18:28:03.143765</td>\n",
       "      <td>treatment</td>\n",
       "      <td>new_page</td>\n",
       "      <td>0</td>\n",
       "    </tr>\n",
       "    <tr>\n",
       "      <td>4</td>\n",
       "      <td>864975</td>\n",
       "      <td>2017-01-21 01:52:26.210827</td>\n",
       "      <td>control</td>\n",
       "      <td>old_page</td>\n",
       "      <td>1</td>\n",
       "    </tr>\n",
       "    <tr>\n",
       "      <td>5</td>\n",
       "      <td>936923</td>\n",
       "      <td>2017-01-10 15:20:49.083499</td>\n",
       "      <td>control</td>\n",
       "      <td>old_page</td>\n",
       "      <td>0</td>\n",
       "    </tr>\n",
       "    <tr>\n",
       "      <td>6</td>\n",
       "      <td>679687</td>\n",
       "      <td>2017-01-19 03:26:46.940749</td>\n",
       "      <td>treatment</td>\n",
       "      <td>new_page</td>\n",
       "      <td>1</td>\n",
       "    </tr>\n",
       "    <tr>\n",
       "      <td>7</td>\n",
       "      <td>719014</td>\n",
       "      <td>2017-01-17 01:48:29.539573</td>\n",
       "      <td>control</td>\n",
       "      <td>old_page</td>\n",
       "      <td>0</td>\n",
       "    </tr>\n",
       "    <tr>\n",
       "      <td>8</td>\n",
       "      <td>817355</td>\n",
       "      <td>2017-01-04 17:58:08.979471</td>\n",
       "      <td>treatment</td>\n",
       "      <td>new_page</td>\n",
       "      <td>1</td>\n",
       "    </tr>\n",
       "    <tr>\n",
       "      <td>9</td>\n",
       "      <td>839785</td>\n",
       "      <td>2017-01-15 18:11:06.610965</td>\n",
       "      <td>treatment</td>\n",
       "      <td>new_page</td>\n",
       "      <td>1</td>\n",
       "    </tr>\n",
       "  </tbody>\n",
       "</table>\n",
       "</div>"
      ],
      "text/plain": [
       "   user_id                   timestamp      group landing_page  converted\n",
       "0   851104  2017-01-21 22:11:48.556739    control     old_page          0\n",
       "1   804228  2017-01-12 08:01:45.159739    control     old_page          0\n",
       "2   661590  2017-01-11 16:55:06.154213  treatment     new_page          0\n",
       "3   853541  2017-01-08 18:28:03.143765  treatment     new_page          0\n",
       "4   864975  2017-01-21 01:52:26.210827    control     old_page          1\n",
       "5   936923  2017-01-10 15:20:49.083499    control     old_page          0\n",
       "6   679687  2017-01-19 03:26:46.940749  treatment     new_page          1\n",
       "7   719014  2017-01-17 01:48:29.539573    control     old_page          0\n",
       "8   817355  2017-01-04 17:58:08.979471  treatment     new_page          1\n",
       "9   839785  2017-01-15 18:11:06.610965  treatment     new_page          1"
      ]
     },
     "execution_count": 3,
     "metadata": {},
     "output_type": "execute_result"
    }
   ],
   "source": [
    "df = pd.read_csv('ab_data.csv')\n",
    "df.head(10)"
   ]
  },
  {
   "cell_type": "markdown",
   "metadata": {},
   "source": [
    "b. Use the below cell to find the number of rows in the dataset."
   ]
  },
  {
   "cell_type": "code",
   "execution_count": 4,
   "metadata": {},
   "outputs": [
    {
     "data": {
      "text/html": [
       "<div>\n",
       "<style scoped>\n",
       "    .dataframe tbody tr th:only-of-type {\n",
       "        vertical-align: middle;\n",
       "    }\n",
       "\n",
       "    .dataframe tbody tr th {\n",
       "        vertical-align: top;\n",
       "    }\n",
       "\n",
       "    .dataframe thead th {\n",
       "        text-align: right;\n",
       "    }\n",
       "</style>\n",
       "<table border=\"1\" class=\"dataframe\">\n",
       "  <thead>\n",
       "    <tr style=\"text-align: right;\">\n",
       "      <th></th>\n",
       "      <th>user_id</th>\n",
       "      <th>converted</th>\n",
       "    </tr>\n",
       "  </thead>\n",
       "  <tbody>\n",
       "    <tr>\n",
       "      <td>count</td>\n",
       "      <td>294478.000000</td>\n",
       "      <td>294478.000000</td>\n",
       "    </tr>\n",
       "    <tr>\n",
       "      <td>mean</td>\n",
       "      <td>787974.124733</td>\n",
       "      <td>0.119659</td>\n",
       "    </tr>\n",
       "    <tr>\n",
       "      <td>std</td>\n",
       "      <td>91210.823776</td>\n",
       "      <td>0.324563</td>\n",
       "    </tr>\n",
       "    <tr>\n",
       "      <td>min</td>\n",
       "      <td>630000.000000</td>\n",
       "      <td>0.000000</td>\n",
       "    </tr>\n",
       "    <tr>\n",
       "      <td>25%</td>\n",
       "      <td>709032.250000</td>\n",
       "      <td>0.000000</td>\n",
       "    </tr>\n",
       "    <tr>\n",
       "      <td>50%</td>\n",
       "      <td>787933.500000</td>\n",
       "      <td>0.000000</td>\n",
       "    </tr>\n",
       "    <tr>\n",
       "      <td>75%</td>\n",
       "      <td>866911.750000</td>\n",
       "      <td>0.000000</td>\n",
       "    </tr>\n",
       "    <tr>\n",
       "      <td>max</td>\n",
       "      <td>945999.000000</td>\n",
       "      <td>1.000000</td>\n",
       "    </tr>\n",
       "  </tbody>\n",
       "</table>\n",
       "</div>"
      ],
      "text/plain": [
       "             user_id      converted\n",
       "count  294478.000000  294478.000000\n",
       "mean   787974.124733       0.119659\n",
       "std     91210.823776       0.324563\n",
       "min    630000.000000       0.000000\n",
       "25%    709032.250000       0.000000\n",
       "50%    787933.500000       0.000000\n",
       "75%    866911.750000       0.000000\n",
       "max    945999.000000       1.000000"
      ]
     },
     "execution_count": 4,
     "metadata": {},
     "output_type": "execute_result"
    }
   ],
   "source": [
    "df.describe()"
   ]
  },
  {
   "cell_type": "markdown",
   "metadata": {},
   "source": [
    "c. The number of unique users in the dataset."
   ]
  },
  {
   "cell_type": "code",
   "execution_count": 5,
   "metadata": {},
   "outputs": [
    {
     "data": {
      "text/plain": [
       "290584"
      ]
     },
     "execution_count": 5,
     "metadata": {},
     "output_type": "execute_result"
    }
   ],
   "source": [
    "len(df['user_id'].value_counts())"
   ]
  },
  {
   "cell_type": "markdown",
   "metadata": {
    "collapsed": true
   },
   "source": [
    "d. The proportion of users converted."
   ]
  },
  {
   "cell_type": "code",
   "execution_count": 6,
   "metadata": {},
   "outputs": [
    {
     "data": {
      "text/plain": [
       "0.11965919355605512"
      ]
     },
     "execution_count": 6,
     "metadata": {},
     "output_type": "execute_result"
    }
   ],
   "source": [
    "(len(df[df['converted']==1]) / len(df))"
   ]
  },
  {
   "cell_type": "markdown",
   "metadata": {
    "collapsed": true
   },
   "source": [
    "e. The number of times the `new_page` and `treatment` don't line up."
   ]
  },
  {
   "cell_type": "code",
   "execution_count": 7,
   "metadata": {},
   "outputs": [
    {
     "data": {
      "text/plain": [
       "3893"
      ]
     },
     "execution_count": 7,
     "metadata": {},
     "output_type": "execute_result"
    }
   ],
   "source": [
    "len(df[((df['group'] == 'treatment') & (df['landing_page'] != 'new_page')) |\n",
    "       ((df['group'] == 'control') & (df['landing_page'] != 'old_page'))])"
   ]
  },
  {
   "cell_type": "markdown",
   "metadata": {},
   "source": [
    "f. Do any of the rows have missing values?"
   ]
  },
  {
   "cell_type": "code",
   "execution_count": 8,
   "metadata": {},
   "outputs": [
    {
     "data": {
      "text/plain": [
       "user_id         0\n",
       "timestamp       0\n",
       "group           0\n",
       "landing_page    0\n",
       "converted       0\n",
       "dtype: int64"
      ]
     },
     "execution_count": 8,
     "metadata": {},
     "output_type": "execute_result"
    }
   ],
   "source": [
    "df.isna().sum()"
   ]
  },
  {
   "cell_type": "markdown",
   "metadata": {},
   "source": [
    "`2.` For the rows where **treatment** is not aligned with **new_page** or **control** is not aligned with **old_page**, we cannot be sure if this row truly received the new or old page.  Use **Quiz 2** in the classroom to provide how we should handle these rows.  \n",
    "\n",
    "a. Now use the answer to the quiz to create a new dataset that meets the specifications from the quiz.  Store your new dataframe in **df2**."
   ]
  },
  {
   "cell_type": "code",
   "execution_count": 9,
   "metadata": {},
   "outputs": [],
   "source": [
    "df2 = df[((df['group'] == 'treatment') & (df['landing_page'] == 'new_page')) |\n",
    "       ((df['group'] == 'control') & (df['landing_page'] == 'old_page'))]"
   ]
  },
  {
   "cell_type": "code",
   "execution_count": 10,
   "metadata": {},
   "outputs": [
    {
     "data": {
      "text/plain": [
       "0"
      ]
     },
     "execution_count": 10,
     "metadata": {},
     "output_type": "execute_result"
    }
   ],
   "source": [
    "# Double Check all of the correct rows were removed - this should be 0\n",
    "df2[((df2['group'] == 'treatment') == (df2['landing_page'] == 'new_page')) == False].shape[0]"
   ]
  },
  {
   "cell_type": "markdown",
   "metadata": {},
   "source": [
    "`3.` Use **df2** and the cells below to answer questions for **Quiz3** in the classroom."
   ]
  },
  {
   "cell_type": "markdown",
   "metadata": {},
   "source": [
    "a. How many unique **user_id**s are in **df2**?"
   ]
  },
  {
   "cell_type": "code",
   "execution_count": 11,
   "metadata": {},
   "outputs": [
    {
     "data": {
      "text/plain": [
       "290584"
      ]
     },
     "execution_count": 11,
     "metadata": {},
     "output_type": "execute_result"
    }
   ],
   "source": [
    "len(df2['user_id'].value_counts())"
   ]
  },
  {
   "cell_type": "markdown",
   "metadata": {
    "collapsed": true
   },
   "source": [
    "b. There is one **user_id** repeated in **df2**.  What is it?"
   ]
  },
  {
   "cell_type": "code",
   "execution_count": 12,
   "metadata": {},
   "outputs": [
    {
     "name": "stdout",
     "output_type": "stream",
     "text": [
      "773192\n"
     ]
    }
   ],
   "source": [
    "repeatedId = df2.groupby('user_id').filter(lambda x: len(x) > 1)['user_id'].unique()[0]\n",
    "print(repeatedId)"
   ]
  },
  {
   "cell_type": "markdown",
   "metadata": {},
   "source": [
    "c. What is the row information for the repeat **user_id**? "
   ]
  },
  {
   "cell_type": "code",
   "execution_count": 17,
   "metadata": {},
   "outputs": [
    {
     "data": {
      "text/html": [
       "<div>\n",
       "<style scoped>\n",
       "    .dataframe tbody tr th:only-of-type {\n",
       "        vertical-align: middle;\n",
       "    }\n",
       "\n",
       "    .dataframe tbody tr th {\n",
       "        vertical-align: top;\n",
       "    }\n",
       "\n",
       "    .dataframe thead th {\n",
       "        text-align: right;\n",
       "    }\n",
       "</style>\n",
       "<table border=\"1\" class=\"dataframe\">\n",
       "  <thead>\n",
       "    <tr style=\"text-align: right;\">\n",
       "      <th></th>\n",
       "      <th>user_id</th>\n",
       "      <th>timestamp</th>\n",
       "      <th>group</th>\n",
       "      <th>landing_page</th>\n",
       "      <th>converted</th>\n",
       "    </tr>\n",
       "  </thead>\n",
       "  <tbody>\n",
       "    <tr>\n",
       "      <td>1899</td>\n",
       "      <td>773192</td>\n",
       "      <td>2017-01-09 05:37:58.781806</td>\n",
       "      <td>treatment</td>\n",
       "      <td>new_page</td>\n",
       "      <td>0</td>\n",
       "    </tr>\n",
       "    <tr>\n",
       "      <td>2893</td>\n",
       "      <td>773192</td>\n",
       "      <td>2017-01-14 02:55:59.590927</td>\n",
       "      <td>treatment</td>\n",
       "      <td>new_page</td>\n",
       "      <td>0</td>\n",
       "    </tr>\n",
       "  </tbody>\n",
       "</table>\n",
       "</div>"
      ],
      "text/plain": [
       "      user_id                   timestamp      group landing_page  converted\n",
       "1899   773192  2017-01-09 05:37:58.781806  treatment     new_page          0\n",
       "2893   773192  2017-01-14 02:55:59.590927  treatment     new_page          0"
      ]
     },
     "execution_count": 17,
     "metadata": {},
     "output_type": "execute_result"
    }
   ],
   "source": [
    "df2.query('user_id == '+str(repeatedId))"
   ]
  },
  {
   "cell_type": "markdown",
   "metadata": {},
   "source": [
    "d. Remove **one** of the rows with a duplicate **user_id**, but keep your dataframe as **df2**."
   ]
  },
  {
   "cell_type": "code",
   "execution_count": 18,
   "metadata": {},
   "outputs": [
    {
     "name": "stderr",
     "output_type": "stream",
     "text": [
      "C:\\Users\\hamid\\Anaconda3\\lib\\site-packages\\ipykernel_launcher.py:1: SettingWithCopyWarning: \n",
      "A value is trying to be set on a copy of a slice from a DataFrame\n",
      "\n",
      "See the caveats in the documentation: http://pandas.pydata.org/pandas-docs/stable/user_guide/indexing.html#returning-a-view-versus-a-copy\n",
      "  \"\"\"Entry point for launching an IPython kernel.\n"
     ]
    }
   ],
   "source": [
    "df2.drop_duplicates(subset=['user_id'], keep='first', inplace=True)"
   ]
  },
  {
   "cell_type": "markdown",
   "metadata": {},
   "source": [
    "`4.` Use **df2** in the below cells to answer the quiz questions related to **Quiz 4** in the classroom.\n",
    "\n",
    "a. What is the probability of an individual converting regardless of the page they receive?"
   ]
  },
  {
   "cell_type": "code",
   "execution_count": 14,
   "metadata": {},
   "outputs": [
    {
     "data": {
      "text/plain": [
       "0.11959708724499628"
      ]
     },
     "execution_count": 14,
     "metadata": {},
     "output_type": "execute_result"
    }
   ],
   "source": [
    "len(df2[df2['converted'] == 1]) / len(df2)"
   ]
  },
  {
   "cell_type": "markdown",
   "metadata": {},
   "source": [
    "b. Given that an individual was in the `control` group, what is the probability they converted?"
   ]
  },
  {
   "cell_type": "code",
   "execution_count": 15,
   "metadata": {},
   "outputs": [
    {
     "data": {
      "text/plain": [
       "0.1203863045004612"
      ]
     },
     "execution_count": 15,
     "metadata": {},
     "output_type": "execute_result"
    }
   ],
   "source": [
    "len(df2[(df2['converted'] == 1)&(df2['group']=='control')]) / len(df2[df2['group']=='control'])"
   ]
  },
  {
   "cell_type": "markdown",
   "metadata": {},
   "source": [
    "c. Given that an individual was in the `treatment` group, what is the probability they converted?"
   ]
  },
  {
   "cell_type": "code",
   "execution_count": 16,
   "metadata": {},
   "outputs": [
    {
     "data": {
      "text/plain": [
       "0.11880806551510564"
      ]
     },
     "execution_count": 16,
     "metadata": {},
     "output_type": "execute_result"
    }
   ],
   "source": [
    "len(df2[(df2['converted'] == 1)&(df2['group']=='treatment')]) / len(df2[df2['group']=='treatment'])"
   ]
  },
  {
   "cell_type": "markdown",
   "metadata": {},
   "source": [
    "d. What is the probability that an individual received the new page?"
   ]
  },
  {
   "cell_type": "code",
   "execution_count": 19,
   "metadata": {},
   "outputs": [
    {
     "data": {
      "text/plain": [
       "0.5000619442226688"
      ]
     },
     "execution_count": 19,
     "metadata": {},
     "output_type": "execute_result"
    }
   ],
   "source": [
    "len(df2[df2['landing_page'] == 'new_page']) / len(df2)"
   ]
  },
  {
   "cell_type": "markdown",
   "metadata": {},
   "source": [
    "e. Consider your results from a. through d. above, and explain below whether you think there is sufficient evidence to say that the new treatment page leads to more conversions."
   ]
  },
  {
   "cell_type": "markdown",
   "metadata": {},
   "source": [
    "**We cannot say that as the result from b and c are almost the same.**"
   ]
  },
  {
   "cell_type": "markdown",
   "metadata": {},
   "source": [
    "<a id='ab_test'></a>\n",
    "### Part II - A/B Test\n",
    "\n",
    "Notice that because of the time stamp associated with each event, you could technically run a hypothesis test continuously as each observation was observed.  \n",
    "\n",
    "However, then the hard question is do you stop as soon as one page is considered significantly better than another or does it need to happen consistently for a certain amount of time?  How long do you run to render a decision that neither page is better than another?  \n",
    "\n",
    "These questions are the difficult parts associated with A/B tests in general.  \n",
    "\n",
    "\n",
    "`1.` For now, consider you need to make the decision just based on all the data provided.  If you want to assume that the old page is better unless the new page proves to be definitely better at a Type I error rate of 5%, what should your null and alternative hypotheses be?  You can state your hypothesis in terms of words or in terms of **$p_{old}$** and **$p_{new}$**, which are the converted rates for the old and new pages."
   ]
  },
  {
   "cell_type": "markdown",
   "metadata": {},
   "source": [
    "**Answer**:\n",
    "\n",
    "**$H_{0}$**: **$p_{old} \\ge p_{new}$**\n",
    "\n",
    "**$H_{1}$**: **$p_{old} \\lt p_{new}$**"
   ]
  },
  {
   "cell_type": "markdown",
   "metadata": {},
   "source": [
    "`2.` Assume under the null hypothesis, $p_{new}$ and $p_{old}$ both have \"true\" success rates equal to the **converted** success rate regardless of page - that is $p_{new}$ and $p_{old}$ are equal. Furthermore, assume they are equal to the **converted** rate in **ab_data.csv** regardless of the page. <br><br>\n",
    "\n",
    "Use a sample size for each page equal to the ones in **ab_data.csv**.  <br><br>\n",
    "\n",
    "Perform the sampling distribution for the difference in **converted** between the two pages over 10,000 iterations of calculating an estimate from the null.  <br><br>\n",
    "\n",
    "Use the cells below to provide the necessary parts of this simulation.  If this doesn't make complete sense right now, don't worry - you are going to work through the problems below to complete this problem.  You can use **Quiz 5** in the classroom to make sure you are on the right track.<br><br>"
   ]
  },
  {
   "cell_type": "markdown",
   "metadata": {},
   "source": [
    "a. What is the **convert rate** for $p_{new}$ under the null? "
   ]
  },
  {
   "cell_type": "code",
   "execution_count": 20,
   "metadata": {},
   "outputs": [
    {
     "data": {
      "text/html": [
       "<div>\n",
       "<style scoped>\n",
       "    .dataframe tbody tr th:only-of-type {\n",
       "        vertical-align: middle;\n",
       "    }\n",
       "\n",
       "    .dataframe tbody tr th {\n",
       "        vertical-align: top;\n",
       "    }\n",
       "\n",
       "    .dataframe thead th {\n",
       "        text-align: right;\n",
       "    }\n",
       "</style>\n",
       "<table border=\"1\" class=\"dataframe\">\n",
       "  <thead>\n",
       "    <tr style=\"text-align: right;\">\n",
       "      <th></th>\n",
       "      <th>user_id</th>\n",
       "      <th>timestamp</th>\n",
       "      <th>group</th>\n",
       "      <th>landing_page</th>\n",
       "      <th>converted</th>\n",
       "    </tr>\n",
       "  </thead>\n",
       "  <tbody>\n",
       "    <tr>\n",
       "      <td>0</td>\n",
       "      <td>851104</td>\n",
       "      <td>2017-01-21 22:11:48.556739</td>\n",
       "      <td>control</td>\n",
       "      <td>old_page</td>\n",
       "      <td>0</td>\n",
       "    </tr>\n",
       "  </tbody>\n",
       "</table>\n",
       "</div>"
      ],
      "text/plain": [
       "   user_id                   timestamp    group landing_page  converted\n",
       "0   851104  2017-01-21 22:11:48.556739  control     old_page          0"
      ]
     },
     "execution_count": 20,
     "metadata": {},
     "output_type": "execute_result"
    }
   ],
   "source": [
    "df2.head(1)"
   ]
  },
  {
   "cell_type": "code",
   "execution_count": 21,
   "metadata": {},
   "outputs": [
    {
     "data": {
      "text/plain": [
       "0.11880806551510564"
      ]
     },
     "execution_count": 21,
     "metadata": {},
     "output_type": "execute_result"
    }
   ],
   "source": [
    "# Rate of conversion for the new page\n",
    "cr_new = len(df2.query('landing_page == \"new_page\" and converted==1')) / len(df2.query('landing_page == \"new_page\"'))\n",
    "cr_new"
   ]
  },
  {
   "cell_type": "markdown",
   "metadata": {},
   "source": [
    "b. What is the **convert rate** for $p_{old}$ under the null? <br><br>"
   ]
  },
  {
   "cell_type": "code",
   "execution_count": 22,
   "metadata": {},
   "outputs": [
    {
     "data": {
      "text/plain": [
       "0.1203863045004612"
      ]
     },
     "execution_count": 22,
     "metadata": {},
     "output_type": "execute_result"
    }
   ],
   "source": [
    "# Rate of conversion for thr old page\n",
    "cr_old = len(df2.query('landing_page == \"old_page\" and converted==1')) / len(df2.query('landing_page == \"old_page\"'))\n",
    "cr_old"
   ]
  },
  {
   "cell_type": "markdown",
   "metadata": {},
   "source": [
    "c. What is $n_{new}$?"
   ]
  },
  {
   "cell_type": "code",
   "execution_count": 23,
   "metadata": {},
   "outputs": [
    {
     "data": {
      "text/plain": [
       "145310"
      ]
     },
     "execution_count": 23,
     "metadata": {},
     "output_type": "execute_result"
    }
   ],
   "source": [
    "# Number of users on the new page\n",
    "n_new = len(df2.query('landing_page == \"new_page\"'))\n",
    "n_new"
   ]
  },
  {
   "cell_type": "markdown",
   "metadata": {},
   "source": [
    "d. What is $n_{old}$?"
   ]
  },
  {
   "cell_type": "code",
   "execution_count": 24,
   "metadata": {},
   "outputs": [
    {
     "data": {
      "text/plain": [
       "145274"
      ]
     },
     "execution_count": 24,
     "metadata": {},
     "output_type": "execute_result"
    }
   ],
   "source": [
    "# Number of users on the old page\n",
    "n_old = len(df2.query('landing_page == \"old_page\"'))\n",
    "n_old"
   ]
  },
  {
   "cell_type": "markdown",
   "metadata": {},
   "source": [
    "e. Simulate $n_{new}$ transactions with a convert rate of $p_{new}$ under the null.  Store these $n_{new}$ 1's and 0's in **new_page_converted**."
   ]
  },
  {
   "cell_type": "code",
   "execution_count": 29,
   "metadata": {},
   "outputs": [
    {
     "data": {
      "text/plain": [
       "array([0, 0, 0, ..., 0, 0, 0])"
      ]
     },
     "execution_count": 29,
     "metadata": {},
     "output_type": "execute_result"
    }
   ],
   "source": [
    "sim_new = np.random.choice([0,1], size = n_new, p=[1-cr_new, cr_new])\n",
    "sim_new"
   ]
  },
  {
   "cell_type": "markdown",
   "metadata": {},
   "source": [
    "f. Simulate $n_{old}$ transactions with a convert rate of $p_{old}$ under the null.  Store these $n_{old}$ 1's and 0's in **old_page_converted**."
   ]
  },
  {
   "cell_type": "code",
   "execution_count": 30,
   "metadata": {},
   "outputs": [
    {
     "data": {
      "text/plain": [
       "array([0, 0, 1, ..., 0, 0, 0])"
      ]
     },
     "execution_count": 30,
     "metadata": {},
     "output_type": "execute_result"
    }
   ],
   "source": [
    "sim_old = np.random.choice([0,1], size = n_old, p=[1-cr_old, cr_old])\n",
    "sim_old"
   ]
  },
  {
   "cell_type": "markdown",
   "metadata": {},
   "source": [
    "g. Find $p_{new}$ - $p_{old}$ for your simulated values from part (e) and (f)."
   ]
  },
  {
   "cell_type": "code",
   "execution_count": 31,
   "metadata": {},
   "outputs": [
    {
     "data": {
      "text/plain": [
       "-0.002617420523489733"
      ]
     },
     "execution_count": 31,
     "metadata": {},
     "output_type": "execute_result"
    }
   ],
   "source": [
    "sim_diff = sim_new.mean() - sim_old.mean()\n",
    "sim_diff"
   ]
  },
  {
   "cell_type": "markdown",
   "metadata": {},
   "source": [
    "h. Simulate 10,000 $p_{new}$ - $p_{old}$ values using this same process similarly to the one you calculated in parts **a. through g.** above.  Store all 10,000 values in a numpy array called **p_diffs**."
   ]
  },
  {
   "cell_type": "code",
   "execution_count": 32,
   "metadata": {},
   "outputs": [],
   "source": [
    "p_diffs = []\n",
    "\n",
    "size = df.shape[0]\n",
    "for _ in range(10000):\n",
    "    sim_new = np.random.choice([0,1], size = n_new, p=[1-cr_new, cr_new]).mean()\n",
    "    sim_old = np.random.choice([0,1], size = n_old, p=[1-cr_old, cr_old]).mean()\n",
    "    sim_diff = sim_new.mean() - sim_old.mean()\n",
    "    p_diffs.append(sim_diff)\n",
    "    "
   ]
  },
  {
   "cell_type": "code",
   "execution_count": 33,
   "metadata": {},
   "outputs": [
    {
     "data": {
      "text/plain": [
       "[-0.0018879899474617268,\n",
       " 0.00054166751891839,\n",
       " -0.0017983538001442173,\n",
       " -0.0013718247494611813,\n",
       " -0.0005044998857291899,\n",
       " -0.0007247647732452622,\n",
       " -0.001344010891672201,\n",
       " 0.0004452723195505215,\n",
       " -0.0025692033120289226,\n",
       " -0.0022320239061837666,\n",
       " -0.0015989987617550383,\n",
       " -0.0014474516455700442,\n",
       " -0.0005113561439779868,\n",
       " -0.0023971334661389287,\n",
       " -0.0011790650474197,\n",
       " -0.0008279480159858188,\n",
       " -0.002046009613217409,\n",
       " -0.0013784405502716979,\n",
       " -0.002514327665460017,\n",
       " -0.0006217759429016229,\n",
       " -0.0012685101930841325,\n",
       " -0.0005802632115902567,\n",
       " -0.00208068825611471,\n",
       " -0.0013856105969505955,\n",
       " -0.0011719580995012274,\n",
       " -0.0013718435085521147,\n",
       " 0.0011750388538433465,\n",
       " -0.0004495185061023227,\n",
       " -0.0009999632899749394,\n",
       " -0.002349028809223691,\n",
       " -0.0010551117960482664,\n",
       " -0.002287075206058642,\n",
       " -0.000869522140685669,\n",
       " -0.003030726499411232,\n",
       " -0.0015231689263897619,\n",
       " -0.001702190531355105,\n",
       " -0.0007866399293027931,\n",
       " -0.0010825709364814945,\n",
       " -0.000277457187071839,\n",
       " -0.0026107825528444845,\n",
       " -0.0012962319607903589,\n",
       " -0.0006215116102567114,\n",
       " -0.002975409161519532,\n",
       " -0.0022733882701395924,\n",
       " -0.0008004871701806915,\n",
       " -0.0023147287588887733,\n",
       " -0.0016470778380917317,\n",
       " -0.0012273726435913651,\n",
       " -0.002431834278870934,\n",
       " -0.001185776349056783,\n",
       " -0.0019429338089067272,\n",
       " -0.0022664313949485454,\n",
       " -0.001826024406693369,\n",
       " -0.0002772491316997,\n",
       " -0.00029802255107440334,\n",
       " -0.0014885602037404827,\n",
       " -0.0007249182567165002,\n",
       " -0.0002981862667770646,\n",
       " -0.0009449154008438626,\n",
       " 5.9761442327083136e-05,\n",
       " -0.0013991150580760642,\n",
       " -0.0021013695854066594,\n",
       " -0.0012961040578976651,\n",
       " -0.0032918833628660937,\n",
       " -0.0019569038365616215,\n",
       " -0.0027069100088236153,\n",
       " -0.003002837605258518,\n",
       " -0.0011103592136919443,\n",
       " -0.0021564140637939377,\n",
       " 0.0003213685239642494,\n",
       " -0.0021220884328804895,\n",
       " -0.0030786350385576533,\n",
       " -0.002927285745513375,\n",
       " 0.0007688739332783884,\n",
       " -0.0005250908303103125,\n",
       " -0.0016126584117236442,\n",
       " -0.001709140585058555,\n",
       " 0.00040376640972676625,\n",
       " -0.002108162744895059,\n",
       " -0.0016128016629634728,\n",
       " -0.0010965665447149192,\n",
       " -0.001640361420338951,\n",
       " -0.0017159337445469408,\n",
       " -0.0016125901968475354,\n",
       " -0.003051356667546107,\n",
       " -0.002121793403541322,\n",
       " -0.0029065208529981817,\n",
       " -0.0010483697977169415,\n",
       " 0.00020427494158539727,\n",
       " -0.0022320085578366594,\n",
       " -0.0007315477005022386,\n",
       " 0.00035579647719184704,\n",
       " -0.0024867099254398395,\n",
       " -0.00015358408817980895,\n",
       " -0.0031750984528016307,\n",
       " -0.0014683307980027094,\n",
       " -0.0012960597182282013,\n",
       " -0.0032435979365291745,\n",
       " -0.0026863344125896277,\n",
       " -0.0028238211164088867,\n",
       " -0.0021631287761748053,\n",
       " -0.0019635929683639586,\n",
       " -0.0024662639374704587,\n",
       " -0.002597047866512159,\n",
       " -0.0019016171953641914,\n",
       " 0.00016298902473710353,\n",
       " -0.0024040118942224437,\n",
       " -0.0034367549902239725,\n",
       " -0.002521344228667663,\n",
       " -4.3672490083163096e-05,\n",
       " -0.0007248858546503589,\n",
       " -0.000497635100620869,\n",
       " -0.0023078571522928554,\n",
       " -0.003842752784342471,\n",
       " -0.0007728489656976673,\n",
       " -0.0010690119034551387,\n",
       " -0.00243178141234196,\n",
       " -0.0010207332986058304,\n",
       " -0.0034639924323098675,\n",
       " -0.003560471194900952,\n",
       " 9.441450464582613e-05,\n",
       " 0.0012021142855984795,\n",
       " -0.0017982872906400077,\n",
       " 0.00030067696244086284,\n",
       " -0.001027533279581841,\n",
       " -0.0009173471166088742,\n",
       " -0.0010275605655322845,\n",
       " -0.0014888961620053015,\n",
       " -0.002053169427664883,\n",
       " -0.001805261219550075,\n",
       " -0.0011104598306341806,\n",
       " -0.0017916066856971807,\n",
       " -0.00239044774508039,\n",
       " -0.0028308615548231636,\n",
       " 0.0005140224929477549,\n",
       " -0.001406155496490341,\n",
       " -0.0016197414844354996,\n",
       " -0.0018605308070284987,\n",
       " -0.00038055345584535327,\n",
       " -0.0021980052422127944,\n",
       " -0.002108454363490414,\n",
       " -0.0009311653661644298,\n",
       " -0.003945814945677931,\n",
       " -0.0022458626202021548,\n",
       " -0.0002637873048718098,\n",
       " -0.0016195624203857312,\n",
       " -0.002053167722292984,\n",
       " -0.00198416856459796,\n",
       " -0.0011169954789652936,\n",
       " -0.0004148824975026,\n",
       " -0.003278332856699262,\n",
       " -0.0004978107539268528,\n",
       " -0.0030303155047826935,\n",
       " 0.00012886803845196804,\n",
       " -0.0006213223139755197,\n",
       " -0.0021907806236330374,\n",
       " -0.003443699927811697,\n",
       " -0.0005115079220773117,\n",
       " 0.0008858140321859886,\n",
       " -0.002314597445252281,\n",
       " -0.002321339443583592,\n",
       " -0.0021497010567849556,\n",
       " -0.004028414065324976,\n",
       " -0.00016039430138722888,\n",
       " 0.0014088320776915325,\n",
       " -0.0011034654372612807,\n",
       " -0.0025418567261412672,\n",
       " 0.00022509270062956444,\n",
       " -0.0028928441493105556,\n",
       " -0.0015509418552530907,\n",
       " -0.0022871553585380594,\n",
       " -0.001454139072000496,\n",
       " 0.00020458190852787328,\n",
       " -0.0008488493382532297,\n",
       " 1.871939366085429e-05,\n",
       " -0.0031476000888146366,\n",
       " -0.0021151230308299324,\n",
       " -0.0006902344977035013,\n",
       " -0.00275506071078023,\n",
       " -0.0017159542090097735,\n",
       " -0.00021546436035302374,\n",
       " -0.0009656751772433442,\n",
       " -0.00263127117511143,\n",
       " -0.0007934330887911789,\n",
       " -0.0041178080498323055,\n",
       " -0.0018601812057884581,\n",
       " -0.00041510078510613446,\n",
       " -0.0012755079972008448,\n",
       " -0.002858523634512805,\n",
       " -0.0020738524623287458,\n",
       " -0.002996126303621463,\n",
       " -0.0024178250276623015,\n",
       " -0.001337308116894656,\n",
       " -0.0011857183664120974,\n",
       " -0.001165234860260836,\n",
       " -0.00013275780227613165,\n",
       " -0.0016748030165417843,\n",
       " -0.0029067340244860185,\n",
       " -0.0017708571415291086,\n",
       " -0.0021219127795745196,\n",
       " -0.0010756464633566026,\n",
       " -0.0016816132297492181,\n",
       " -0.00028402353209716624,\n",
       " -0.0015370383371023921,\n",
       " -0.00016042158733767242,\n",
       " -0.001647026676934657,\n",
       " -0.0010001935151817964,\n",
       " 0.0005419147978442673,\n",
       " -0.002417959752042606,\n",
       " -0.001778034009695617,\n",
       " -0.0009107551910049888,\n",
       " -0.0017914105679283782,\n",
       " -0.0005390983761470597,\n",
       " -0.0008829754406540491,\n",
       " -0.00069732780264678,\n",
       " -0.003257729974514817,\n",
       " -0.0012752811827378002,\n",
       " 0.00030728253101998393,\n",
       " -5.733384542366826e-05,\n",
       " -0.0021428277448171246,\n",
       " -0.0003601654505206442,\n",
       " -0.0009795599363031093,\n",
       " -0.0018260568087595103,\n",
       " -0.0017433212593602754,\n",
       " -0.00317509163131402,\n",
       " -0.0014886829905174648,\n",
       " -0.0037395115589572148,\n",
       " -0.002665475724619795,\n",
       " -0.0026930354819952873,\n",
       " -0.002975033979700961,\n",
       " -0.00010544873457032922,\n",
       " 0.0002458490662852336,\n",
       " -0.0008555231217084319,\n",
       " -0.0019359206564428938,\n",
       " -0.00361571008568512,\n",
       " -0.0022939075891007937,\n",
       " -0.0031061248756851373,\n",
       " -0.0014473629662311166,\n",
       " -0.0017914105679283782,\n",
       " 0.0003832743767160085,\n",
       " -0.003291992506667868,\n",
       " -0.0047237799323406465,\n",
       " -0.0022321330499855407,\n",
       " -0.000862089466733787,\n",
       " -0.0024592814817008535,\n",
       " -0.0018327766372561033,\n",
       " -0.002149528814222784,\n",
       " -0.0012616454079758255,\n",
       " -0.0005250260261780021,\n",
       " -0.0009176250922289936,\n",
       " -0.0034915402520820232,\n",
       " -0.0013992787737787116,\n",
       " -0.0008900107629526283,\n",
       " -0.002541916414157852,\n",
       " -0.00018796258562223112,\n",
       " 0.0001766111565238565,\n",
       " -0.002631266058995732,\n",
       " -0.0005596842046124567,\n",
       " -0.0008622088427669705,\n",
       " -0.0007594161301921198,\n",
       " -0.00040834855454340013,\n",
       " -0.0019156707862423017,\n",
       " -0.0017707650514463824,\n",
       " -0.0017296104482345809,\n",
       " -0.0004768667973618773,\n",
       " -0.0020877184622975636,\n",
       " -0.0007178727021865255,\n",
       " -0.0001878704955394911,\n",
       " -0.0031474841235252515,\n",
       " -0.001688215387584499,\n",
       " -0.0015023392297422722,\n",
       " -0.0029549853433848833,\n",
       " -0.002190869302971979,\n",
       " -0.0024454615267733987,\n",
       " -0.0011653303610873883,\n",
       " -0.0014952305764518864,\n",
       " 0.00016308793630745444,\n",
       " -0.0013717838205355298,\n",
       " -0.000868961073329691,\n",
       " -0.0005250788927069899,\n",
       " -0.0004978158700425506,\n",
       " -0.00013954414027690654,\n",
       " -0.0021768242389533787,\n",
       " -0.0010207622899281732,\n",
       " -0.0005180111683422695,\n",
       " -0.0009588888392425693,\n",
       " -0.003704952292093125,\n",
       " -0.0023351628092548454,\n",
       " -0.003202368296953667,\n",
       " -0.002817304227168721,\n",
       " -0.0017637877117924888,\n",
       " -0.0030718180038626225,\n",
       " -0.002452476384609145,\n",
       " -0.001489007011178961,\n",
       " -0.003113119269058051,\n",
       " -0.0022872321002736784,\n",
       " -0.0015577640060638193,\n",
       " 0.0003419799330082046,\n",
       " -0.0004975481266538545,\n",
       " -0.003594626288624128,\n",
       " -0.00026375319743375536,\n",
       " -0.0008831527993319321,\n",
       " 0.0006449735484359148,\n",
       " -0.0031404283367638397,\n",
       " -0.0008967953955815039,\n",
       " -0.001344478163573526,\n",
       " 0.0021176802359979263,\n",
       " -0.0020806063982633793,\n",
       " -0.0025210167972623543,\n",
       " -0.002101558881687851,\n",
       " -0.0008900022360931181,\n",
       " -0.0019221143444906608,\n",
       " 0.00036276699535811585,\n",
       " -0.0025279685563377036,\n",
       " -0.0011788024201467018,\n",
       " -0.0023560948282164984,\n",
       " -0.0016953223355029995,\n",
       " -0.0035671535052156783,\n",
       " -0.00203935458885314,\n",
       " -0.002004899349675099,\n",
       " 0.0002388973072099121,\n",
       " -0.00047698958413887327,\n",
       " -0.0034778686645101087,\n",
       " -0.00018767949388640015,\n",
       " -0.0007591313330843757,\n",
       " -0.0036775187322384273,\n",
       " -0.001185807045751025,\n",
       " -0.0003256249427474739,\n",
       " -0.0024591979184776236,\n",
       " -0.0030923509657990594,\n",
       " -0.0035946143510208056,\n",
       " -7.766216273177862e-05,\n",
       " -0.0020805774069410365,\n",
       " -0.0014543147253064659,\n",
       " -0.0014408034426933725,\n",
       " 0.0009817607187434657,\n",
       " -0.0027964660036617073,\n",
       " -0.002844592830411677,\n",
       " -0.0008692134683712938,\n",
       " -0.0011378661045384347,\n",
       " 0.00041089041136428694,\n",
       " -0.00349857216363679,\n",
       " -0.0014820944756573778,\n",
       " 0.0013055669770996592,\n",
       " -0.0022182551124133865,\n",
       " -0.0007661427801763099,\n",
       " -9.842023375936093e-05,\n",
       " -0.00040817119586553097,\n",
       " -0.004007916916198506,\n",
       " -0.001440800031949574,\n",
       " 0.0010164717637069082,\n",
       " -0.001489114449608836,\n",
       " 4.601481839143495e-05,\n",
       " -0.004930386875260026,\n",
       " -0.0015987787687796046,\n",
       " -0.0030166797300207188,\n",
       " -0.004001026550511655,\n",
       " 0.0004520092017661209,\n",
       " -0.002162896845596049,\n",
       " -0.0018673239665168984,\n",
       " -0.003760093976678841,\n",
       " -0.0010276475394993267,\n",
       " -0.0021840164554669944,\n",
       " -0.002651715457708939,\n",
       " -0.000986237130502124,\n",
       " -0.0021907942666082453,\n",
       " 0.00010815260172195029,\n",
       " -0.0007179937835916084,\n",
       " -0.0010552652795195044,\n",
       " -0.0032028560333178246,\n",
       " -0.0022870939651495614,\n",
       " -0.0022253040776871874,\n",
       " -0.0033675631255039445,\n",
       " -0.0030854861806907385,\n",
       " -0.0020119585471802953,\n",
       " -0.0023835539686497265,\n",
       " -0.004737432760821628,\n",
       " -0.004014805576513444,\n",
       " -0.0016054951865323852,\n",
       " -0.0002499332425062867,\n",
       " -0.0031474926503847617,\n",
       " -0.002342378900975106,\n",
       " -0.001970803943968494,\n",
       " -0.0011996218845627682,\n",
       " -0.001089463007540245,\n",
       " 0.0006584916525366191,\n",
       " -0.0026725656188192476,\n",
       " -0.0017913423530522832,\n",
       " -0.000738323806271618,\n",
       " -0.0008349253556396985,\n",
       " -0.0028585816171575046,\n",
       " -0.0016055275885985265,\n",
       " -0.00022207845579165497,\n",
       " -0.0035328602763683853,\n",
       " -0.0027416346967622934,\n",
       " -0.0015989595382012861,\n",
       " -0.0020734568160473282,\n",
       " -0.0008004513573707239,\n",
       " -0.0015025387582548871,\n",
       " -0.0010483391010226994,\n",
       " -5.006829791824596e-05,\n",
       " -0.0018741068937738747,\n",
       " -0.0018465710116050277,\n",
       " 0.00011482467980526712,\n",
       " -0.0009589314735401339,\n",
       " -0.00229404742959681,\n",
       " -0.0032507679832080583,\n",
       " -0.0012480300976766834,\n",
       " -0.0037117914966228877,\n",
       " 0.0011956809595815437,\n",
       " -0.0025558318699118593,\n",
       " -0.003044302586156594,\n",
       " -6.382344871340428e-05,\n",
       " -0.0025071388596902,\n",
       " -0.003003057598233966,\n",
       " -0.0027895176553301843,\n",
       " -0.003271430553409088,\n",
       " -0.0027138191336014,\n",
       " -0.0008143292949428643,\n",
       " -0.0004427202304982253,\n",
       " -0.0025484946967865157,\n",
       " -0.0016125936075913477,\n",
       " -0.003429325727015889,\n",
       " -0.0023834721107984097,\n",
       " -0.0019016837048683871,\n",
       " -0.004035483495061595,\n",
       " -0.0028308751977983854,\n",
       " -0.0020118391711471117,\n",
       " -0.002775755683047415,\n",
       " -0.004255649471007317,\n",
       " 3.907499691940819e-05,\n",
       " -0.00048356445602373843,\n",
       " -0.0006766550002143268,\n",
       " -0.0017022502193717037,\n",
       " -0.0008693533088672961,\n",
       " -0.002163210634026136,\n",
       " -0.0013306087528608956,\n",
       " -0.0019223786771355722,\n",
       " -0.002555538545944591,\n",
       " -0.004221366474391447,\n",
       " 6.641476131945268e-05,\n",
       " -0.00046315428086429744,\n",
       " -0.0017710464378103141,\n",
       " -0.0027964625929179088,\n",
       " -0.0013578069713930246,\n",
       " -0.004028236706647106,\n",
       " 0.00010148905049815748,\n",
       " 0.0003146793921619123,\n",
       " -0.0021840011071198595,\n",
       " -0.00027745548169992584,\n",
       " -0.00029790658578503215,\n",
       " -0.001894856437941933,\n",
       " -0.0012066486800018372,\n",
       " -0.002383536914930706,\n",
       " -0.000635268466423769,\n",
       " -0.0013237217979178428,\n",
       " -0.0013580883577569564,\n",
       " -0.001626594331940484,\n",
       " -0.0021977750170059374,\n",
       " -0.0002908763796021646,\n",
       " -0.0007179579707816547,\n",
       " -0.0023490322199674757,\n",
       " -0.0007111375253427976,\n",
       " -0.003994074791436306,\n",
       " -0.0016536851120427382,\n",
       " -0.001681620051236829,\n",
       " -0.001158486040441914,\n",
       " -0.0022941054122414956,\n",
       " -0.0009106238773684827,\n",
       " -0.001626471545163502,\n",
       " -0.0001394554609379789,\n",
       " 0.0011610739423041638,\n",
       " -0.001537005935036237,\n",
       " -0.002431893966887533,\n",
       " -0.00228001089243772,\n",
       " -0.0022114278454869463,\n",
       " -0.00200510740504721,\n",
       " -0.0023009787242093405,\n",
       " -0.0012683720579600155,\n",
       " -0.0013029415570555425,\n",
       " -0.002486790077919257,\n",
       " -0.0034297452485039376,\n",
       " 0.0006034505848931532,\n",
       " -0.0012272652051614902,\n",
       " -0.0012409572571962513,\n",
       " -0.002128879886996976,\n",
       " -0.0017641782419581947,\n",
       " -0.0015366597445400088,\n",
       " -0.0020394296252168598,\n",
       " -0.003030501390320073,\n",
       " -0.0013165534566108722,\n",
       " -0.005212102281229855,\n",
       " -0.0012547703906360952,\n",
       " -0.0004010488995999234,\n",
       " -0.0021357003324358192,\n",
       " 0.0004726530128762174,\n",
       " -0.0031545620801213953,\n",
       " -0.0019362856060300693,\n",
       " -0.0013304552693896576,\n",
       " -0.0036910573008019365,\n",
       " -0.0023558816567286756,\n",
       " -0.0034505084356472177,\n",
       " 0.00021131367462777495,\n",
       " -0.0021631066063400733,\n",
       " -0.002135836762188037,\n",
       " 0.0005348197875290894,\n",
       " -0.0012478493282550018,\n",
       " -0.0004357053726624788,\n",
       " 6.67592464437955e-05,\n",
       " -0.002872016158034965,\n",
       " -0.00265181436927929,\n",
       " -0.0010547110336511373,\n",
       " 0.0010026671571265744,\n",
       " 0.0010921771069233033,\n",
       " -0.0036155992365114464,\n",
       " -0.0033127829797615915,\n",
       " -0.0014955852938076247,\n",
       " -0.0008903893555150116,\n",
       " -0.0038631049768572123,\n",
       " -0.0004699559672122072,\n",
       " -0.0008487845341209194,\n",
       " -0.003016904839111864,\n",
       " -0.0001329010535159464,\n",
       " -0.002369684557937096,\n",
       " -0.0013443366177055965,\n",
       " -0.001461080598844422,\n",
       " -0.0008210729986460885,\n",
       " -0.002989259813141243,\n",
       " -0.0005114789307549827,\n",
       " -0.0017709696960746951,\n",
       " -0.0037186017098303076,\n",
       " -0.0014680698761016242,\n",
       " -0.0004770305130645386,\n",
       " 0.0012780720238564636,\n",
       " -0.00380796329227151,\n",
       " -0.00036002049390891633,\n",
       " -0.0029410221372176,\n",
       " -0.002018721009974453,\n",
       " -0.0030648372534649443,\n",
       " -0.0010759670732742865,\n",
       " -0.0015646560771225698,\n",
       " -0.0036774044723209554,\n",
       " -0.0018809392768160266,\n",
       " -0.002541687894322908,\n",
       " -0.0028788536571928286,\n",
       " -0.0027758818805682095,\n",
       " -0.00031183568451426114,\n",
       " -0.0007590017248197689,\n",
       " -0.0033541950941306936,\n",
       " -0.002851779930809595,\n",
       " -0.0004975259568191087,\n",
       " -0.0016883876301466844,\n",
       " -0.0006764759361645445,\n",
       " -0.00141304245143338,\n",
       " -0.0012958329037651567,\n",
       " -0.0025968091144457778,\n",
       " -0.0019497525489736711,\n",
       " -0.0014475761377189533,\n",
       " -0.0008211343920345865,\n",
       " -0.002658762717610827,\n",
       " 0.0012161508227575696,\n",
       " -0.00027059922345114285,\n",
       " -0.0006694542568411871,\n",
       " -0.0035533659523543787,\n",
       " 0.0013124965663402488,\n",
       " -0.0025898727037175634,\n",
       " -0.0012202025969124813,\n",
       " -0.0017916749005732896,\n",
       " -0.0017777782039102158,\n",
       " -0.0016539016942743873,\n",
       " -0.0009932792742883,\n",
       " -0.0027825539586515263,\n",
       " -0.002211441488462168,\n",
       " -0.00022251503099872394,\n",
       " -0.0012823727823091519,\n",
       " -0.0011173382587177233,\n",
       " -0.0017296581986478432,\n",
       " -0.0026175876499361928,\n",
       " -0.0010415919865756768,\n",
       " 9.444179059626967e-05,\n",
       " 0.0009475902766731686,\n",
       " -0.0008625328634284668,\n",
       " -0.0018397880843480374,\n",
       " -0.0015646236750564146,\n",
       " -0.0015783617721325527,\n",
       " -0.001474740248813028,\n",
       " -0.0017296752523668774,\n",
       " -0.002438501240838553,\n",
       " -0.0037806064741524315,\n",
       " -0.0023007706688372015,\n",
       " -0.0018260124690900464,\n",
       " -0.00046309288747579946,\n",
       " -0.002149634547280746,\n",
       " -0.0023148140274839024,\n",
       " -0.00024313326153029002,\n",
       " -0.0017021461916856273,\n",
       " -0.002582997686377833,\n",
       " -0.0020668802387905777,\n",
       " -0.0006008626830308894,\n",
       " -0.0018327766372561033,\n",
       " 0.0005278799660570765,\n",
       " -0.001771022562603683,\n",
       " -0.0013028187702785465,\n",
       " 0.0012849675056590265,\n",
       " -0.000745602996752262,\n",
       " -0.0010139947110183178,\n",
       " -3.6649105387906444e-05,\n",
       " -0.003016628568863644,\n",
       " -0.0018121549959807387,\n",
       " -0.0038975158763657897,\n",
       " -0.0009381222413554768,\n",
       " -0.0010894425430774124,\n",
       " 0.001512144928696682,\n",
       " 0.00022486418079462056,\n",
       " -0.0011241348289499214,\n",
       " -0.0001672778455864693,\n",
       " -0.0012062888465303734,\n",
       " -0.000876018565463002,\n",
       " -0.0003188113187962416,\n",
       " -0.000717606664169701,\n",
       " -0.0024456593499141005,\n",
       " -0.0016812687446248753,\n",
       " -0.0020325546078771295,\n",
       " -0.0017364803494585856,\n",
       " -0.0024865649688281255,\n",
       " -0.0006489485808552076,\n",
       " -0.0023145633378142128,\n",
       " -0.0006838114039179888,\n",
       " -0.0011168130041717128,\n",
       " 0.0001976062742459067,\n",
       " -0.0020326160012656275,\n",
       " -0.002583263724394644,\n",
       " -0.00029101280935438234,\n",
       " -0.0031681006486849045,\n",
       " -0.0017225597775888807,\n",
       " -0.002741493150894364,\n",
       " -0.003436666310885031,\n",
       " -0.000889862395597088,\n",
       " -0.003099451092229921,\n",
       " -0.0012132849452751865,\n",
       " -0.0012617357926866662,\n",
       " -0.002714247181948959,\n",
       " -0.003697905032191237,\n",
       " -0.002747974227324576,\n",
       " -0.0018397863789761382,\n",
       " -0.001337468421853491,\n",
       " -0.002163381171216394,\n",
       " -0.003195288634985624,\n",
       " -0.0018191238087751083,\n",
       " -0.001536946247019652,\n",
       " -0.0005595631232073739,\n",
       " -0.0023766601922190767,\n",
       " -0.0010548662224942745,\n",
       " -0.0010276134320612584,\n",
       " -5.046223882775036e-05,\n",
       " 0.0008858856578059099,\n",
       " -0.002878848541077117,\n",
       " 0.000747993075473824,\n",
       " 0.000927089716802873,\n",
       " -0.0024111597710665955,\n",
       " -0.0028513245965115924,\n",
       " -0.0035121994115392546,\n",
       " -0.002369652155870955,\n",
       " -0.001626410151775004,\n",
       " -0.0038083964567347806,\n",
       " -0.0014130987287061664,\n",
       " -0.002445471759004822,\n",
       " -0.0016951432714532172,\n",
       " -0.00243849100860713,\n",
       " -0.001598843572911901,\n",
       " 0.00019061188087297898,\n",
       " -0.000807370714379918,\n",
       " -0.0013237797805625423,\n",
       " -0.000594141149162411,\n",
       " -0.0009796383834106276,\n",
       " -0.0034639208066899463,\n",
       " 0.00036918497302793063,\n",
       " -0.0008350805444828358,\n",
       " -0.0016610274012838072,\n",
       " -0.002865364544414495,\n",
       " -0.0018124551414356038,\n",
       " 0.00023893312001986577,\n",
       " -0.0028791844993419358,\n",
       " -0.002989044936281507,\n",
       " -0.0017501246510800844,\n",
       " -0.003595110614244487,\n",
       " -0.001798328219565673,\n",
       " -0.0008965583488870499,\n",
       " -0.0005732449430107117,\n",
       " -0.0037944810009807733,\n",
       " -0.0020462449545399775,\n",
       " -0.0012750697166218627,\n",
       " -0.002080657559420454,\n",
       " -0.0021287059390629054,\n",
       " 1.8427775065513186e-05,\n",
       " -0.002500565693177262,\n",
       " -0.0015986662142340319,\n",
       " -0.0024661786688753157,\n",
       " -0.0034366304980750773,\n",
       " -0.0007247187282038992,\n",
       " -0.0009105198496824202,\n",
       " -0.0009658235445988844,\n",
       " -0.0010342036522932585,\n",
       " -0.000972509265657423,\n",
       " -0.0016196340460056247,\n",
       " -0.0014337425398162629,\n",
       " -0.0031748989242890158,\n",
       " -0.0016125919022194485,\n",
       " -0.0006972783468615906,\n",
       " -6.41082458211345e-05,\n",
       " -0.000600668270634,\n",
       " -0.0027554171335078814,\n",
       " -0.002266412635857612,\n",
       " -0.0030508859849009834,\n",
       " -0.00022908819751168985,\n",
       " -0.0036293373335875706,\n",
       " -0.002693216251416955,\n",
       " -0.0016055821604994136,\n",
       " -0.00041490296196543264,\n",
       " -0.0014545159591909662,\n",
       " -0.0022663614747005373,\n",
       " 0.000493344574399604,\n",
       " -0.002115348139921064,\n",
       " -0.002410779473132299,\n",
       " -0.001681451219418456,\n",
       " -7.093551274758858e-05,\n",
       " -0.0008350924820861583,\n",
       " -0.004159615810482825,\n",
       " -0.0007866808582284446,\n",
       " -0.001564611737453106,\n",
       " 0.0002800246244712562,\n",
       " -0.0030097978911933776,\n",
       " -0.0032988078359909856,\n",
       " 0.0007685908415425435,\n",
       " -0.0023010861626391876,\n",
       " -0.001619521491460052,\n",
       " -0.0024661633205281946,\n",
       " -0.0007660950297630337,\n",
       " -0.003209476950244053,\n",
       " -0.0015094529991483696,\n",
       " -0.0021425906981226567,\n",
       " -0.0027003231993354415,\n",
       " -0.002535142013760386,\n",
       " 0.0006722621516788985,\n",
       " 0.0002732263488671449,\n",
       " -0.0012203509642680077,\n",
       " 0.0008513042211070743,\n",
       " -0.0016951773788912716,\n",
       " -0.00193587631677343,\n",
       " -0.002376523762466873,\n",
       " -0.001550691165583401,\n",
       " -0.0028032728061253287,\n",
       " -0.0025625465822927407,\n",
       " 0.0001634187784565616,\n",
       " -0.002803245520174899,\n",
       " -0.0027551783814415143,\n",
       " -0.0017091576387775753,\n",
       " -0.0009107500748892772,\n",
       " -0.002307792348160545,\n",
       " -0.00018110632737344812,\n",
       " -0.0006562141283606299,\n",
       " -0.0021218206894917657,\n",
       " -0.004634310911469583,\n",
       " -0.0008073280800823535,\n",
       " -0.0019977173653928926,\n",
       " -0.0028377775010885453,\n",
       " -0.003705022212341133,\n",
       " -0.0020668802387905777,\n",
       " -0.002204361826494125,\n",
       " -0.0011171643107836526,\n",
       " -0.0014063720787219625,\n",
       " -0.0007111767488965637,\n",
       " -0.002961870592956023,\n",
       " -0.0011447513541095883,\n",
       " -0.0029756274491230666,\n",
       " -0.001887914911098021,\n",
       " -0.0015509077478150224,\n",
       " -0.0007178283625170478,\n",
       " -0.0033057408359754153,\n",
       " -0.0006972254803326167,\n",
       " -0.0029756291544949798,\n",
       " -0.0008762334423227242,\n",
       " -0.0017158689404146443,\n",
       " -0.0020873194052723615,\n",
       " -0.0010137934771338175,\n",
       " -0.001571483344049024,\n",
       " -0.0012067254217374562,\n",
       " -0.0010346095308060715,\n",
       " -0.002672560502703536,\n",
       " -0.0032918816574941945,\n",
       " -0.002335198622064799,\n",
       " -0.0024454052495006123,\n",
       " -0.0024320321020116498,\n",
       " -0.0010964915083511995,\n",
       " -0.0029616505999805753,\n",
       " -9.833667053613104e-05,\n",
       " -0.001695371791288161,\n",
       " -0.0014337510666757869,\n",
       " -0.0013302983751746073,\n",
       " -0.0016056265001688774,\n",
       " -0.0020531489632020505,\n",
       " -0.00011898048164622754,\n",
       " -0.001192540517222826,\n",
       " -0.0017229008519694111,\n",
       " -0.0030237559812449494,\n",
       " -0.0023834465302198793,\n",
       " -0.0012892426835331566,\n",
       " -0.001516251274752481,\n",
       " -0.0032989527926027135,\n",
       " -0.0014956313388490017,\n",
       " 0.0006449377356259611,\n",
       " -0.002383596602947305,\n",
       " -0.0027208339914371327,\n",
       " 0.00144997815404381,\n",
       " 0.00031454807852540623,\n",
       " -0.0019980089839882476,\n",
       " -0.0019774657898203873,\n",
       " -0.0009034111963920344,\n",
       " -0.0006010451578244841,\n",
       " 0.00014222072147809794,\n",
       " -0.0005322335910387388,\n",
       " -0.0015159426024380918,\n",
       " -0.0005181169014002313,\n",
       " -0.0014131942295327188,\n",
       " -0.0030029723296388228,\n",
       " -0.0010483015828408465,\n",
       " -0.0012549545708015752,\n",
       " -0.0009105062067071984,\n",
       " -0.0011720536003277798,\n",
       " -0.0021152389961192897,\n",
       " -0.0006559037506743554,\n",
       " -0.0014818557235910246,\n",
       " -0.0023489298976533263,\n",
       " -0.0009451268669598001,\n",
       " -0.0011444853160927776,\n",
       " -0.0024934451022835535,\n",
       " -0.003216328092377138,\n",
       " -0.0009315251996358798,\n",
       " -0.0015574451015180207,\n",
       " -0.0004837537523049301,\n",
       " -0.0010688703575872233,\n",
       " -0.0026865083605236983,\n",
       " -0.002073985481337151,\n",
       " -0.002177078339366867,\n",
       " -0.0010069730316949604,\n",
       " -0.0022802223585536574,\n",
       " -0.00225933979537718,\n",
       " -0.0011034057492446958,\n",
       " -0.0017434048225835053,\n",
       " -0.0013168553074376366,\n",
       " 1.1574927560514814e-05,\n",
       " -0.0017295064205485183,\n",
       " -0.0004426622478535258,\n",
       " -0.0023973824504367053,\n",
       " -0.002555545367432216,\n",
       " -0.0026656223866034223,\n",
       " -0.000532366610047158,\n",
       " -0.0013579280527981075,\n",
       " -0.0016058038588467605,\n",
       " -0.002892608807987987,\n",
       " -0.0009106136451370594,\n",
       " -0.00273472216124071,\n",
       " -0.00228688590977745,\n",
       " -0.00175726911718041,\n",
       " -0.0005662863624477654,\n",
       " -0.0009587165966804118,\n",
       " -0.002335266836940908,\n",
       " -0.000765881858275197,\n",
       " -0.0012546458984872,\n",
       " -0.0011996576973727219,\n",
       " -0.0030166865515083297,\n",
       " -0.0023148515456657692,\n",
       " 0.0007755767080559473,\n",
       " -0.0012067254217374562,\n",
       " -0.0016540654099770347,\n",
       " -7.070358216883232e-05,\n",
       " 0.00028690475792668424,\n",
       " -0.004145652604315556,\n",
       " -0.0005181015530531102,\n",
       " -0.0027481601128619693,\n",
       " -0.0017365315106156742,\n",
       " 1.1562989957192293e-05,\n",
       " -0.002356036845571813,\n",
       " -0.0014749448934413406,\n",
       " -0.001715920101571719,\n",
       " -0.003278034416616296,\n",
       " -0.0009862865862872994,\n",
       " -0.0017983606216318282,\n",
       " -0.0013854656403388677,\n",
       " -0.0009654381305488902,\n",
       " -0.00022230527025471347,\n",
       " -0.0003118083985638176,\n",
       " -0.00031860155805221724,\n",
       " -0.0023901220190469807,\n",
       " -0.0030994596190894452,\n",
       " -0.0023211569687900113,\n",
       " 0.0021039199690870702,\n",
       " -0.003044309407644205,\n",
       " -0.00314056817725987,\n",
       " -0.0024731184903473424,\n",
       " -0.002459484420957267,\n",
       " -0.0002639919495001364,\n",
       " -0.0028652298200341764,\n",
       " -0.0013851637895120894,\n",
       " -0.001798306049730941,\n",
       " -0.001688437085931846,\n",
       " -0.0009449699727447497,\n",
       " -0.002431680795399696,\n",
       " -0.0027964353069674652,\n",
       " -0.000841802078351328,\n",
       " -0.0014406260840155033,\n",
       " -0.0031130919831076076,\n",
       " -0.0001330767068219163,\n",
       " -0.002252568805723526,\n",
       " -0.0009240498913864192,\n",
       " -0.004110994425881087,\n",
       " -0.0034365537563394583,\n",
       " -0.0020601041330211983,\n",
       " 4.598753244099141e-05,\n",
       " 0.00010076938355524367,\n",
       " -0.002121945181640661,\n",
       " -0.003092622119931568,\n",
       " -0.0013375792710271645,\n",
       " -0.0013373490458203074,\n",
       " -0.002947912502904451,\n",
       " -0.0009518211148778349,\n",
       " 0.0002733030906027639,\n",
       " -0.0011992637564632175,\n",
       " -0.0012340651861375007,\n",
       " -0.002995788639984731,\n",
       " -0.0020462074363581245,\n",
       " -0.0012957715103766587,\n",
       " -0.0003184685390438119,\n",
       " -0.0038564806491871717,\n",
       " -0.0025900944020648964,\n",
       " -0.0029410204318456867,\n",
       " -0.002053014238821732,\n",
       " -0.0029751857578003,\n",
       " -0.0014063106853334784,\n",
       " -0.0011033051323024318,\n",
       " -0.0020944826304636205,\n",
       " -0.001867136375607592,\n",
       " -0.0008693106745697454,\n",
       " -0.001406070227895198,\n",
       " -0.002803254047034409,\n",
       " 0.0005967375778841849,\n",
       " -0.001399113352704151,\n",
       " -0.0005526079533882261,\n",
       " -0.0021356474659068453,\n",
       " -0.0015370639176809364,\n",
       " -0.002734565267025646,\n",
       " -0.0012478373906516793,\n",
       " -0.000250274316886831,\n",
       " -0.0014336879679153758,\n",
       " -0.002232250720646825,\n",
       " -0.0030785531807063227,\n",
       " -0.004042210145045799,\n",
       " -0.0014819017686323877,\n",
       " 0.00024565977000404193,\n",
       " 1.1435087064498584e-05,\n",
       " -0.00250046848697881,\n",
       " -0.000532103982774132,\n",
       " -0.002651737627543671,\n",
       " -0.00023618320782685387,\n",
       " -0.002941315461184868,\n",
       " -0.0031610823801053595,\n",
       " -0.0013441848396062717,\n",
       " -0.0031063789760986393,\n",
       " -0.002266281322221106,\n",
       " -0.0013853496750494826,\n",
       " -0.002121916190318318,\n",
       " -0.0012820538777633672,\n",
       " -0.0016262805435103972,\n",
       " -0.0017021564239170506,\n",
       " 0.000252548430318994,\n",
       " -0.003560269961016438,\n",
       " -0.0028445996518992878,\n",
       " -0.0004976999047531794,\n",
       " -0.0007247528356419536,\n",
       " -0.0010001611131156413,\n",
       " -0.0016127846092444525,\n",
       " -0.0035052340094886836,\n",
       " -0.003168112586288241,\n",
       " -0.0011445450041093624,\n",
       " -0.0012548198464212706,\n",
       " -0.0015990908518377922,\n",
       " -0.0007179409170626205,\n",
       " -0.003925370663080435,\n",
       " -0.0016197721811297416,\n",
       " -0.0018536813702673127,\n",
       " -0.0023972289669654673,\n",
       " 0.0005555693316971616,\n",
       " -0.002335575509255297,\n",
       " 1.8531802751561854e-05,\n",
       " 8.739794143819424e-05,\n",
       " -0.0004769912895107725,\n",
       " -0.0008142764284138904,\n",
       " -0.001736729333756376,\n",
       " -0.0011515649780608206,\n",
       " -0.002362642414150906,\n",
       " ...]"
      ]
     },
     "execution_count": 33,
     "metadata": {},
     "output_type": "execute_result"
    }
   ],
   "source": [
    "p_diffs"
   ]
  },
  {
   "cell_type": "markdown",
   "metadata": {},
   "source": [
    "i. Plot a histogram of the **p_diffs**.  Does this plot look like what you expected?  Use the matching problem in the classroom to assure you fully understand what was computed here."
   ]
  },
  {
   "cell_type": "code",
   "execution_count": 35,
   "metadata": {},
   "outputs": [
    {
     "data": {
      "image/png": "[encoded data removed]",
      "text/plain": [
       "<Figure size 432x288 with 1 Axes>"
      ]
     },
     "metadata": {
      "needs_background": "light"
     },
     "output_type": "display_data"
    }
   ],
   "source": [
    "p_diffs = np.array(p_diffs)\n",
    "plt.hist(p_diffs);"
   ]
  },
  {
   "cell_type": "markdown",
   "metadata": {},
   "source": [
    "j. What proportion of the **p_diffs** are greater than the actual difference observed in **ab_data.csv**?"
   ]
  },
  {
   "cell_type": "code",
   "execution_count": null,
   "metadata": {
    "collapsed": true
   },
   "outputs": [],
   "source": []
  },
  {
   "cell_type": "markdown",
   "metadata": {},
   "source": [
    "k. In words, explain what you just computed in part **j.**  What is this value called in scientific studies?  What does this value mean in terms of whether or not there is a difference between the new and old pages?"
   ]
  },
  {
   "cell_type": "markdown",
   "metadata": {},
   "source": [
    "**Put your answer here.**"
   ]
  },
  {
   "cell_type": "markdown",
   "metadata": {},
   "source": [
    "l. We could also use a built-in to achieve similar results.  Though using the built-in might be easier to code, the above portions are a walkthrough of the ideas that are critical to correctly thinking about statistical significance. Fill in the below to calculate the number of conversions for each page, as well as the number of individuals who received each page. Let `n_old` and `n_new` refer the the number of rows associated with the old page and new pages, respectively."
   ]
  },
  {
   "cell_type": "code",
   "execution_count": null,
   "metadata": {
    "collapsed": true
   },
   "outputs": [],
   "source": [
    "import statsmodels.api as sm\n",
    "\n",
    "convert_old = \n",
    "convert_new = \n",
    "n_old = \n",
    "n_new = "
   ]
  },
  {
   "cell_type": "markdown",
   "metadata": {},
   "source": [
    "m. Now use `stats.proportions_ztest` to compute your test statistic and p-value.  [Here](http://knowledgetack.com/python/statsmodels/proportions_ztest/) is a helpful link on using the built in."
   ]
  },
  {
   "cell_type": "code",
   "execution_count": null,
   "metadata": {
    "collapsed": true
   },
   "outputs": [],
   "source": []
  },
  {
   "cell_type": "markdown",
   "metadata": {},
   "source": [
    "n. What do the z-score and p-value you computed in the previous question mean for the conversion rates of the old and new pages?  Do they agree with the findings in parts **j.** and **k.**?"
   ]
  },
  {
   "cell_type": "markdown",
   "metadata": {},
   "source": [
    "**Put your answer here.**"
   ]
  },
  {
   "cell_type": "markdown",
   "metadata": {},
   "source": [
    "<a id='regression'></a>\n",
    "### Part III - A regression approach\n",
    "\n",
    "`1.` In this final part, you will see that the result you acheived in the previous A/B test can also be acheived by performing regression.<br><br>\n",
    "\n",
    "a. Since each row is either a conversion or no conversion, what type of regression should you be performing in this case?"
   ]
  },
  {
   "cell_type": "markdown",
   "metadata": {},
   "source": [
    "**Put your answer here.**"
   ]
  },
  {
   "cell_type": "markdown",
   "metadata": {},
   "source": [
    "b. The goal is to use **statsmodels** to fit the regression model you specified in part **a.** to see if there is a significant difference in conversion based on which page a customer receives.  However, you first need to create a column for the intercept, and create a dummy variable column for which page each user received.  Add an **intercept** column, as well as an **ab_page** column, which is 1 when an individual receives the **treatment** and 0 if **control**."
   ]
  },
  {
   "cell_type": "code",
   "execution_count": null,
   "metadata": {
    "collapsed": true
   },
   "outputs": [],
   "source": []
  },
  {
   "cell_type": "markdown",
   "metadata": {},
   "source": [
    "c. Use **statsmodels** to import your regression model.  Instantiate the model, and fit the model using the two columns you created in part **b.** to predict whether or not an individual converts."
   ]
  },
  {
   "cell_type": "code",
   "execution_count": null,
   "metadata": {
    "collapsed": true
   },
   "outputs": [],
   "source": []
  },
  {
   "cell_type": "markdown",
   "metadata": {},
   "source": [
    "d. Provide the summary of your model below, and use it as necessary to answer the following questions."
   ]
  },
  {
   "cell_type": "code",
   "execution_count": null,
   "metadata": {
    "collapsed": true
   },
   "outputs": [],
   "source": []
  },
  {
   "cell_type": "markdown",
   "metadata": {},
   "source": [
    "e. What is the p-value associated with **ab_page**? Why does it differ from the value you found in **Part II**?<br><br>  **Hint**: What are the null and alternative hypotheses associated with your regression model, and how do they compare to the null and alternative hypotheses in the **Part II**?"
   ]
  },
  {
   "cell_type": "markdown",
   "metadata": {},
   "source": [
    "**Put your answer here.**"
   ]
  },
  {
   "cell_type": "markdown",
   "metadata": {},
   "source": [
    "f. Now, you are considering other things that might influence whether or not an individual converts.  Discuss why it is a good idea to consider other factors to add into your regression model.  Are there any disadvantages to adding additional terms into your regression model?"
   ]
  },
  {
   "cell_type": "markdown",
   "metadata": {},
   "source": [
    "**Put your answer here.**"
   ]
  },
  {
   "cell_type": "markdown",
   "metadata": {},
   "source": [
    "g. Now along with testing if the conversion rate changes for different pages, also add an effect based on which country a user lives. You will need to read in the **countries.csv** dataset and merge together your datasets on the approporiate rows.  [Here](https://pandas.pydata.org/pandas-docs/stable/generated/pandas.DataFrame.join.html) are the docs for joining tables. \n",
    "\n",
    "Does it appear that country had an impact on conversion?  Don't forget to create dummy variables for these country columns - **Hint: You will need two columns for the three dummy variables.** Provide the statistical output as well as a written response to answer this question."
   ]
  },
  {
   "cell_type": "code",
   "execution_count": null,
   "metadata": {
    "collapsed": true
   },
   "outputs": [],
   "source": [
    "countries_df = pd.read_csv('./countries.csv')\n",
    "df_new = countries_df.set_index('user_id').join(df2.set_index('user_id'), how='inner')"
   ]
  },
  {
   "cell_type": "code",
   "execution_count": null,
   "metadata": {
    "collapsed": true
   },
   "outputs": [],
   "source": [
    "### Create the necessary dummy variables"
   ]
  },
  {
   "cell_type": "markdown",
   "metadata": {},
   "source": [
    "h. Though you have now looked at the individual factors of country and page on conversion, we would now like to look at an interaction between page and country to see if there significant effects on conversion.  Create the necessary additional columns, and fit the new model.  \n",
    "\n",
    "Provide the summary results, and your conclusions based on the results."
   ]
  },
  {
   "cell_type": "code",
   "execution_count": null,
   "metadata": {
    "collapsed": true
   },
   "outputs": [],
   "source": [
    "### Fit Your Linear Model And Obtain the Results"
   ]
  },
  {
   "cell_type": "markdown",
   "metadata": {},
   "source": [
    "<a id='conclusions'></a>\n",
    "## Conclusions\n",
    "\n",
    "Congratulations on completing the project! \n",
    "\n",
    "### Gather Submission Materials\n",
    "\n",
    "Once you are satisfied with the status of your Notebook, you should save it in a format that will make it easy for others to read. You can use the __File -> Download as -> HTML (.html)__ menu to save your notebook as an .html file. If you are working locally and get an error about \"No module name\", then open a terminal and try installing the missing module using `pip install <module_name>` (don't include the \"<\" or \">\" or any words following a period in the module name).\n",
    "\n",
    "You will submit both your original Notebook and an HTML or PDF copy of the Notebook for review. There is no need for you to include any data files with your submission. If you made reference to other websites, books, and other resources to help you in solving tasks in the project, make sure that you document them. It is recommended that you either add a \"Resources\" section in a Markdown cell at the end of the Notebook report, or you can include a `readme.txt` file documenting your sources.\n",
    "\n",
    "### Submit the Project\n",
    "\n",
    "When you're ready, click on the \"Submit Project\" button to go to the project submission page. You can submit your files as a .zip archive or you can link to a GitHub repository containing your project files. If you go with GitHub, note that your submission will be a snapshot of the linked repository at time of submission. It is recommended that you keep each project in a separate repository to avoid any potential confusion: if a reviewer gets multiple folders representing multiple projects, there might be confusion regarding what project is to be evaluated.\n",
    "\n",
    "It can take us up to a week to grade the project, but in most cases it is much faster. You will get an email once your submission has been reviewed. If you are having any problems submitting your project or wish to check on the status of your submission, please email us at dataanalyst-project@udacity.com. In the meantime, you should feel free to continue on with your learning journey by beginning the next module in the program."
   ]
  },
  {
   "cell_type": "code",
   "execution_count": null,
   "metadata": {
    "collapsed": true
   },
   "outputs": [],
   "source": []
  }
 ],
 "metadata": {
  "kernelspec": {
   "display_name": "Python 3",
   "language": "python",
   "name": "python3"
  },
  "language_info": {
   "codemirror_mode": {
    "name": "ipython",
    "version": 3
   },
   "file_extension": ".py",
   "mimetype": "text/x-python",
   "name": "python",
   "nbconvert_exporter": "python",
   "pygments_lexer": "ipython3",
   "version": "3.7.4"
  }
 },
 "nbformat": 4,
 "nbformat_minor": 2
}
